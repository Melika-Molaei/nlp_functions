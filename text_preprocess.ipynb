{
 "cells": [
  {
   "cell_type": "markdown",
   "id": "44eab6be-364c-4a44-a515-f090dca5d4fd",
   "metadata": {},
   "source": [
    "# Streamlined NLP Preprocessing: An All-in-One Python Function\n",
    "In the world of Natural Language Processing (NLP), preprocessing text data is a crucial step that can significantly affect the quality of your analysis and results. To simplify the often cumbersome and repetitive preprocessing tasks, I have developed a Python function that incorporates all the essential NLP preprocessing steps into one streamlined function. Best of all, it operates seamlessly on a Pandas Series object, meaning it can handle any amount of text data contained in the cells of the series.\n",
    "\n",
    "## Preprocessing Steps\n",
    "#### 1)Converting to Lowercase:\n",
    "Standardizes the text by converting all characters to lowercase, isolating the raw content from casing variations.\n",
    "\n",
    "#### 2) Removing HTML: \n",
    "Cleans any HTML tags that may be present in input text, perfect for web-scraped data.\n",
    "\n",
    "#### 3) Removing Numbers:\n",
    "Eliminates numerical values, enabling the focus on textual data instead.\n",
    "\n",
    "#### 4) Fixing Contractions:\n",
    "Converts contractions (e.g., \"don't\" to \"do not\") into their expanded forms, aiding machine learning models which often handle whole words better.\n",
    "\n",
    "#### 5) Removing Punctuation: \n",
    "Strips out punctuation marks to clean up the text further for analysis.\n",
    "\n",
    "#### 6) Tokenization: \n",
    "Splits the textual data into individual tokens (words), essential for vectorizing techniques required in machine learning.\n",
    "\n",
    "#### 7) Removing Stop Words (SW): \n",
    "Discards common stop words (e.g., \"and\", \"the\", \"is\") which typically do not contribute meaningful information for analysis.\n",
    "\n",
    "#### 8) Stemming: \n",
    "Reduces words to their root forms (e.g., “studying” to “study”), assisting models in recognizing variations of words.\n",
    "\n",
    "#### 9) Lemmatization:\n",
    "Takes it a step further by ensuring that transformed words meet the language's proper dictionary form (e.g., “better” to “good”)."
   ]
  },
  {
   "cell_type": "code",
   "execution_count": 1,
   "id": "0e401031-fca8-47f2-be8a-2b0c441e0b74",
   "metadata": {},
   "outputs": [
    {
     "name": "stderr",
     "output_type": "stream",
     "text": [
      "[nltk_data] Downloading package punkt to\n",
      "[nltk_data]     /Users/melikamolaei/nltk_data...\n",
      "[nltk_data]   Package punkt is already up-to-date!\n",
      "[nltk_data] Downloading package stopwords to\n",
      "[nltk_data]     /Users/melikamolaei/nltk_data...\n",
      "[nltk_data]   Package stopwords is already up-to-date!\n",
      "[nltk_data] Downloading package wordnet to\n",
      "[nltk_data]     /Users/melikamolaei/nltk_data...\n",
      "[nltk_data]   Package wordnet is already up-to-date!\n"
     ]
    },
    {
     "data": {
      "text/plain": [
       "True"
      ]
     },
     "execution_count": 1,
     "metadata": {},
     "output_type": "execute_result"
    }
   ],
   "source": [
    "import re\n",
    "import nltk\n",
    "import string\n",
    "import pandas as pd\n",
    "import contractions\n",
    "from nltk.tokenize import sent_tokenize, word_tokenize\n",
    "from nltk.corpus import stopwords\n",
    "from nltk.stem import PorterStemmer\n",
    "from nltk.stem import WordNetLemmatizer\n",
    "nltk.download('punkt')\n",
    "nltk.download('stopwords')\n",
    "nltk.download('wordnet')"
   ]
  },
  {
   "cell_type": "code",
   "execution_count": 2,
   "id": "4b211728-7a2f-4611-8b46-c416b1f2d7d8",
   "metadata": {},
   "outputs": [],
   "source": [
    "def final_preprocess(col, converting_to_lowercase= True,  removing_html= True, removing_number= True , fixing_contractions= True, removing_punc= True,  tokenization= True, removing_sw= True, stemming= True, lemmatization= True):\n",
    "    \n",
    "    def convert_to_lowercase(col):\n",
    "        return col.apply(str.lower)\n",
    "    \n",
    "    def remove_html(col):\n",
    "        \n",
    "        def remove_tags(a):\n",
    "            html_pattern = re.compile('<.*?>')\n",
    "            return html_pattern.sub(r'', a)\n",
    "            \n",
    "        return col.apply(remove_tags)\n",
    "    \n",
    "    def remove_number(col):\n",
    "        \n",
    "        def nreplace(a):\n",
    "            return re.sub(r'\\d' , \"\" ,a)\n",
    "            \n",
    "        return col.apply(nreplace)\n",
    "    \n",
    "    def fix_contractions(col):\n",
    "        \n",
    "        def cont(a):\n",
    "            return contractions.fix(a)\n",
    "            \n",
    "        return col.apply(cont)\n",
    "    \n",
    "    def remove_punc(col):\n",
    "        \n",
    "        def no_punc(a):     \n",
    "            a= [i for i in a if i not in string.punctuation]\n",
    "            return \"\".join([i for i in a])\n",
    "            \n",
    "        return col.apply(no_punc)\n",
    "        \n",
    "    def token(col):\n",
    "        return col.apply(word_tokenize)\n",
    "    \n",
    "    def remove_sw(col):\n",
    "        \n",
    "        sw= set(stopwords.words('english'))\n",
    "        def no_sw(a):\n",
    "            \n",
    "            a= [i for i in a if not i in sw]\n",
    "            \n",
    "            return a\n",
    "            \n",
    "        return col.apply(no_sw)\n",
    "    \n",
    "    def stem_list(col):\n",
    "        \n",
    "        def stem_words(a):\n",
    "            b= []\n",
    "            for i in a:\n",
    "                ps= PorterStemmer()\n",
    "                b.append(ps.stem(i))\n",
    "            return b    \n",
    "            \n",
    "        return col.apply(stem_words)\n",
    "    \n",
    "    def lemmatization_list(col):\n",
    "        \n",
    "        def lemmatization_word(a):\n",
    "            b= []\n",
    "            for i in a:\n",
    "                wnl= WordNetLemmatizer()\n",
    "                b.append(wnl.lemmatize(i))\n",
    "                \n",
    "            return b \n",
    "            \n",
    "        return col.apply(lemmatization_word)\n",
    "\n",
    "    \n",
    "    if converting_to_lowercase:\n",
    "        col= convert_to_lowercase(col)\n",
    "    if removing_html:\n",
    "        col= remove_html(col)\n",
    "    if removing_number:\n",
    "        col= remove_number(col)\n",
    "    if fixing_contractions:\n",
    "        col= fix_contractions(col)\n",
    "    if removing_punc:\n",
    "        col= remove_punc(col)\n",
    "    if tokenization:\n",
    "        col= token(col)\n",
    "    if removing_sw:\n",
    "        col= remove_sw(col)\n",
    "    if stemming:\n",
    "        col= stem_list(col)\n",
    "    if lemmatization:\n",
    "        col= lemmatization_list(col)\n",
    "        \n",
    "    return col"
   ]
  },
  {
   "cell_type": "markdown",
   "id": "a794a7ab-5ce2-44ed-99ad-eb459add3824",
   "metadata": {},
   "source": [
    "The beauty of this function lies in its flexibility. You can cherry-pick the preprocessing steps that suit your specific needs. Want to skip converting to lowercase? No problem, just set `converting_to_lowercase` to `False`. Need to remove HTML tags but keep numbers intact? Easy, set `removing_html` to `True` and `removing_number` to `False`. You get the idea.\n",
    "\n",
    "By default, all steps are set to `True`, so if you don't specify otherwise, the function will run all the preprocessing steps. But if you want to customize the process, just pass the relevant arguments with the desired values."
   ]
  },
  {
   "cell_type": "code",
   "execution_count": 3,
   "id": "db14657e-75db-4139-9c12-ed588fcee5d3",
   "metadata": {},
   "outputs": [],
   "source": [
    "txt1 = \"Absolutely wonderful - silky and sexy and comfortable\"\n",
    "txt2 = \"Love this dress!  it's sooo pretty.  i happened to find it in a store, and i'm glad i did bc i never would have ordered it online bc it's petite.  i bought a petite and am 5'8.  i love the length on me- hits just a little below the knee.  would definitely be a true midi on someone who is truly petite.\"\n",
    "txt3 = \"I love, love, love this jumpsuit. it's fun, flirty, and fabulous! every time i wear it, i get nothing but great compliments!\"\n",
    "test = pd.Series([txt1 , txt2 , txt3])\n",
    "pp_test = final_preprocess(test , stemming = False)"
   ]
  },
  {
   "cell_type": "code",
   "execution_count": 4,
   "id": "6d50e610-6a8c-49fb-83b6-b5e0b6960bd6",
   "metadata": {},
   "outputs": [
    {
     "name": "stdout",
     "output_type": "stream",
     "text": [
      "without pp:  Absolutely wonderful - silky and sexy and comfortable\n",
      "with pp:  ['absolutely', 'wonderful', 'silky', 'sexy', 'comfortable']\n",
      "\n",
      "without pp:  Love this dress!  it's sooo pretty.  i happened to find it in a store, and i'm glad i did bc i never would have ordered it online bc it's petite.  i bought a petite and am 5'8.  i love the length on me- hits just a little below the knee.  would definitely be a true midi on someone who is truly petite.\n",
      "with pp:  ['love', 'dress', 'sooo', 'pretty', 'happened', 'find', 'store', 'glad', 'never', 'would', 'ordered', 'online', 'petite', 'bought', 'petite', 'love', 'length', 'hit', 'little', 'knee', 'would', 'definitely', 'true', 'midi', 'someone', 'truly', 'petite']\n",
      "\n",
      "without pp:  I love, love, love this jumpsuit. it's fun, flirty, and fabulous! every time i wear it, i get nothing but great compliments!\n",
      "with pp:  ['love', 'love', 'love', 'jumpsuit', 'fun', 'flirty', 'fabulous', 'every', 'time', 'wear', 'get', 'nothing', 'great', 'compliment']\n",
      "\n"
     ]
    }
   ],
   "source": [
    "for i in range(3):\n",
    "    print(\"without pp: \" , test[i])\n",
    "    print(\"with pp: \" , pp_test[i])\n",
    "    print()"
   ]
  }
 ],
 "metadata": {
  "kernelspec": {
   "display_name": "Python 3 (ipykernel)",
   "language": "python",
   "name": "python3"
  },
  "language_info": {
   "codemirror_mode": {
    "name": "ipython",
    "version": 3
   },
   "file_extension": ".py",
   "mimetype": "text/x-python",
   "name": "python",
   "nbconvert_exporter": "python",
   "pygments_lexer": "ipython3",
   "version": "3.12.4"
  }
 },
 "nbformat": 4,
 "nbformat_minor": 5
}
